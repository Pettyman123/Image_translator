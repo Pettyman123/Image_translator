{
 "cells": [
  {
   "cell_type": "code",
   "execution_count": 1,
   "metadata": {},
   "outputs": [],
   "source": [
    "#!pip install pytesseract pillow googletrans==4.0.0-rc1\n"
   ]
  },
  {
   "cell_type": "markdown",
   "metadata": {},
   "source": [
    "TESSERACT WORKS MUCH BETTER"
   ]
  },
  {
   "cell_type": "code",
   "execution_count": 12,
   "metadata": {},
   "outputs": [
    {
     "name": "stdout",
     "output_type": "stream",
     "text": [
      "| ES\n",
      "It's cold and cold\n",
      "\n",
      "Pace\n",
      "\n",
      "Akira 4QA Maki Saun S\n",
      "Girrow complete SN dancer Otsu\n",
      "\n",
      "Honhiwa O ...\n"
     ]
    }
   ],
   "source": [
    "from PIL import Image\n",
    "import pytesseract\n",
    "from googletrans import Translator\n",
    "\n",
    "# Load the manga image\n",
    "image = Image.open('2.rawkuma.com.jpg')\n",
    "\n",
    "# Use Tesseract OCR to extract text\n",
    "extracted_text = pytesseract.image_to_string(image, lang='jpn')  # For Japanese text\n",
    "\n",
    "# Translate the extracted text\n",
    "translator = Translator()\n",
    "translated_text = translator.translate(extracted_text, dest='en')\n",
    "\n",
    "# Output the result\n",
    "print(translated_text.text)\n"
   ]
  }
 ],
 "metadata": {
  "kernelspec": {
   "display_name": "myapp",
   "language": "python",
   "name": "python3"
  },
  "language_info": {
   "codemirror_mode": {
    "name": "ipython",
    "version": 3
   },
   "file_extension": ".py",
   "mimetype": "text/x-python",
   "name": "python",
   "nbconvert_exporter": "python",
   "pygments_lexer": "ipython3",
   "version": "3.10.11"
  }
 },
 "nbformat": 4,
 "nbformat_minor": 2
}
