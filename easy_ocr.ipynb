{
 "cells": [
  {
   "cell_type": "code",
   "execution_count": null,
   "metadata": {},
   "outputs": [],
   "source": [
    "# !pip install easyocr\n",
    "# !pip install googletrans"
   ]
  },
  {
   "cell_type": "code",
   "execution_count": null,
   "metadata": {},
   "outputs": [],
   "source": [
    "# import easyocr\n",
    "# from googletrans import Translator\n",
    "# from PIL import Image\n",
    "\n",
    "# # Initialize the easyOCR reader for Japanese (or other languages)\n",
    "# reader = easyocr.Reader(['ja'])  # 'ja' for Japanese, 'en' for English\n",
    "\n",
    "# # Load your manga image\n",
    "# image_path = 'images.jpeg'  # Replace with your image path\n",
    "# image = Image.open(image_path)\n",
    "\n",
    "# # Use easyOCR to extract text from the image\n",
    "# extracted_text = reader.readtext(image_path, detail=0)\n",
    "\n",
    "# # Combine extracted text into a single string\n",
    "# extracted_text_str = ' '.join(extracted_text)\n",
    "\n",
    "# # Translate extracted text to English\n",
    "# translator = Translator()\n",
    "# translated_text = translator.translate(extracted_text_str, dest='en')\n",
    "\n",
    "# # Output the translated text\n",
    "# print(\"Extracted Text:\", extracted_text_str)\n",
    "# print(\"Translated Text:\", translated_text.text)\n"
   ]
  }
 ],
 "metadata": {
  "language_info": {
   "name": "python"
  }
 },
 "nbformat": 4,
 "nbformat_minor": 2
}
